{
 "cells": [
  {
   "cell_type": "code",
   "execution_count": 4,
   "metadata": {},
   "outputs": [
    {
     "name": "stdout",
     "output_type": "stream",
     "text": [
      "         Date       Open       High        Low      Close  Adj Close  Volume\n",
      "0  1927-12-30  17.660000  17.660000  17.660000  17.660000  17.660000       0\n",
      "1  1928-01-03  17.760000  17.760000  17.760000  17.760000  17.760000       0\n",
      "2  1928-01-04  17.719999  17.719999  17.719999  17.719999  17.719999       0\n",
      "3  1928-01-05  17.549999  17.549999  17.549999  17.549999  17.549999       0\n",
      "4  1928-01-06  17.660000  17.660000  17.660000  17.660000  17.660000       0\n",
      "Date         datetime64[ns]\n",
      "Open                float64\n",
      "High                float64\n",
      "Low                 float64\n",
      "Close               float64\n",
      "Adj Close           float64\n",
      "Volume                int64\n",
      "dtype: object\n"
     ]
    }
   ],
   "source": [
    "import pandas as pd\n",
    "from matplotlib import pyplot as plt\n",
    "\n",
    "spy = pd.read_csv('data.csv')\n",
    "\n",
    "print(spy.head())\n",
    "spy['Date'] = pd.to_datetime(spy['Date'])\n",
    "print(spy.dtypes)"
   ]
  },
  {
   "cell_type": "code",
   "execution_count": null,
   "metadata": {},
   "outputs": [],
   "source": [
    "def demark_buy_setup(df):\n",
    "    '''demark sequential bear setup using daily timeframes. signal has setup stage and sequential buy countdown. This function will add a boolean True for the start of the setup signal.''' \n",
    "    # setup_signal will be set to true if setup close[-1] > close[-4] & close[0] < close[-3]\n",
    "    df['setup_signal'] = False \n",
    "    for i in range(0,len(df)):\n",
    "        "
   ]
  }
 ],
 "metadata": {
  "kernelspec": {
   "display_name": "Python 3",
   "language": "python",
   "name": "python3"
  },
  "language_info": {
   "codemirror_mode": {
    "name": "ipython",
    "version": 3
   },
   "file_extension": ".py",
   "mimetype": "text/x-python",
   "name": "python",
   "nbconvert_exporter": "python",
   "pygments_lexer": "ipython3",
   "version": "3.7.4"
  }
 },
 "nbformat": 4,
 "nbformat_minor": 4
}
